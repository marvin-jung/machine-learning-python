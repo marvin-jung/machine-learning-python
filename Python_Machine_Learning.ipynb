{
  "nbformat": 4,
  "nbformat_minor": 0,
  "metadata": {
    "colab": {
      "name": "Python Machine Learning.ipynb",
      "provenance": [],
      "toc_visible": true,
      "authorship_tag": "ABX9TyPH4eyJrXsCPvHERBMaPXIE",
      "include_colab_link": true
    },
    "kernelspec": {
      "name": "python3",
      "display_name": "Python 3"
    }
  },
  "cells": [
    {
      "cell_type": "markdown",
      "metadata": {
        "id": "view-in-github",
        "colab_type": "text"
      },
      "source": [
        "<a href=\"https://colab.research.google.com/github/marvin-jung/machine-learning-python/blob/main/Python_Machine_Learning.ipynb\" target=\"_parent\"><img src=\"https://colab.research.google.com/assets/colab-badge.svg\" alt=\"Open In Colab\"/></a>"
      ]
    },
    {
      "cell_type": "markdown",
      "metadata": {
        "id": "FyPTomrj8ujz"
      },
      "source": [
        "# Chapter 4 - Linear Regression with Scikit-Learn"
      ]
    },
    {
      "cell_type": "markdown",
      "metadata": {
        "id": "MQ1fIO7f9RYf"
      },
      "source": [
        "## Simple Linear Regression"
      ]
    },
    {
      "cell_type": "code",
      "metadata": {
        "colab": {
          "base_uri": "https://localhost:8080/"
        },
        "id": "TntpD1rPk2VN",
        "outputId": "77c84981-d81b-4819-8dcd-da02719e5e4e"
      },
      "source": [
        "# Simple Linear Regression\n",
        "\n",
        "# Import Libraries\n",
        "\n",
        "import numpy as np\n",
        "import pandas as pd\n",
        "import matplotlib.pyplot as plt\n",
        "\n",
        "from google.colab import drive\n",
        "drive.mount(\"/content/gdrive\")\n",
        "\n",
        "# storing the path to the dataset\n",
        "file = \"/content/gdrive/My Drive/Colab Notebooks/datasets/student_scores.csv\"\n",
        "\n",
        "# Reading the file into Python through pandas\n",
        "dataset = pd.read_csv(file)"
      ],
      "execution_count": null,
      "outputs": [
        {
          "output_type": "stream",
          "text": [
            "Drive already mounted at /content/gdrive; to attempt to forcibly remount, call drive.mount(\"/content/gdrive\", force_remount=True).\n"
          ],
          "name": "stdout"
        }
      ]
    },
    {
      "cell_type": "code",
      "metadata": {
        "colab": {
          "base_uri": "https://localhost:8080/"
        },
        "id": "gCLNLBDVnWAM",
        "outputId": "9b3e84d7-7d82-4432-d105-a4a6df263183"
      },
      "source": [
        "# Explore the dataset - row and column\n",
        "dataset.shape"
      ],
      "execution_count": null,
      "outputs": [
        {
          "output_type": "execute_result",
          "data": {
            "text/plain": [
              "(25, 2)"
            ]
          },
          "metadata": {
            "tags": []
          },
          "execution_count": 7
        }
      ]
    },
    {
      "cell_type": "markdown",
      "metadata": {
        "id": "mWWGUMQZnhsf"
      },
      "source": [
        "dataset has 25 rows and 2 columns."
      ]
    },
    {
      "cell_type": "code",
      "metadata": {
        "colab": {
          "base_uri": "https://localhost:8080/",
          "height": 204
        },
        "id": "J1aPbdEknXpL",
        "outputId": "68f76947-50fb-4618-b42b-1b7ac7deae70"
      },
      "source": [
        "# See the first five rows of the data\n",
        "dataset.head()"
      ],
      "execution_count": null,
      "outputs": [
        {
          "output_type": "execute_result",
          "data": {
            "text/html": [
              "<div>\n",
              "<style scoped>\n",
              "    .dataframe tbody tr th:only-of-type {\n",
              "        vertical-align: middle;\n",
              "    }\n",
              "\n",
              "    .dataframe tbody tr th {\n",
              "        vertical-align: top;\n",
              "    }\n",
              "\n",
              "    .dataframe thead th {\n",
              "        text-align: right;\n",
              "    }\n",
              "</style>\n",
              "<table border=\"1\" class=\"dataframe\">\n",
              "  <thead>\n",
              "    <tr style=\"text-align: right;\">\n",
              "      <th></th>\n",
              "      <th>Hours</th>\n",
              "      <th>Scores</th>\n",
              "    </tr>\n",
              "  </thead>\n",
              "  <tbody>\n",
              "    <tr>\n",
              "      <th>0</th>\n",
              "      <td>2.5</td>\n",
              "      <td>21</td>\n",
              "    </tr>\n",
              "    <tr>\n",
              "      <th>1</th>\n",
              "      <td>5.1</td>\n",
              "      <td>47</td>\n",
              "    </tr>\n",
              "    <tr>\n",
              "      <th>2</th>\n",
              "      <td>3.2</td>\n",
              "      <td>27</td>\n",
              "    </tr>\n",
              "    <tr>\n",
              "      <th>3</th>\n",
              "      <td>8.5</td>\n",
              "      <td>75</td>\n",
              "    </tr>\n",
              "    <tr>\n",
              "      <th>4</th>\n",
              "      <td>3.5</td>\n",
              "      <td>30</td>\n",
              "    </tr>\n",
              "  </tbody>\n",
              "</table>\n",
              "</div>"
            ],
            "text/plain": [
              "   Hours  Scores\n",
              "0    2.5      21\n",
              "1    5.1      47\n",
              "2    3.2      27\n",
              "3    8.5      75\n",
              "4    3.5      30"
            ]
          },
          "metadata": {
            "tags": []
          },
          "execution_count": 6
        }
      ]
    },
    {
      "cell_type": "code",
      "metadata": {
        "colab": {
          "base_uri": "https://localhost:8080/",
          "height": 297
        },
        "id": "tAeLQSbPnlHU",
        "outputId": "79ed6ffa-7a6a-4d8b-cbdd-9b2072dc288b"
      },
      "source": [
        "# View the statistical details of the dataset\n",
        "dataset.describe()"
      ],
      "execution_count": null,
      "outputs": [
        {
          "output_type": "execute_result",
          "data": {
            "text/html": [
              "<div>\n",
              "<style scoped>\n",
              "    .dataframe tbody tr th:only-of-type {\n",
              "        vertical-align: middle;\n",
              "    }\n",
              "\n",
              "    .dataframe tbody tr th {\n",
              "        vertical-align: top;\n",
              "    }\n",
              "\n",
              "    .dataframe thead th {\n",
              "        text-align: right;\n",
              "    }\n",
              "</style>\n",
              "<table border=\"1\" class=\"dataframe\">\n",
              "  <thead>\n",
              "    <tr style=\"text-align: right;\">\n",
              "      <th></th>\n",
              "      <th>Hours</th>\n",
              "      <th>Scores</th>\n",
              "    </tr>\n",
              "  </thead>\n",
              "  <tbody>\n",
              "    <tr>\n",
              "      <th>count</th>\n",
              "      <td>25.000000</td>\n",
              "      <td>25.000000</td>\n",
              "    </tr>\n",
              "    <tr>\n",
              "      <th>mean</th>\n",
              "      <td>5.012000</td>\n",
              "      <td>51.480000</td>\n",
              "    </tr>\n",
              "    <tr>\n",
              "      <th>std</th>\n",
              "      <td>2.525094</td>\n",
              "      <td>25.286887</td>\n",
              "    </tr>\n",
              "    <tr>\n",
              "      <th>min</th>\n",
              "      <td>1.100000</td>\n",
              "      <td>17.000000</td>\n",
              "    </tr>\n",
              "    <tr>\n",
              "      <th>25%</th>\n",
              "      <td>2.700000</td>\n",
              "      <td>30.000000</td>\n",
              "    </tr>\n",
              "    <tr>\n",
              "      <th>50%</th>\n",
              "      <td>4.800000</td>\n",
              "      <td>47.000000</td>\n",
              "    </tr>\n",
              "    <tr>\n",
              "      <th>75%</th>\n",
              "      <td>7.400000</td>\n",
              "      <td>75.000000</td>\n",
              "    </tr>\n",
              "    <tr>\n",
              "      <th>max</th>\n",
              "      <td>9.200000</td>\n",
              "      <td>95.000000</td>\n",
              "    </tr>\n",
              "  </tbody>\n",
              "</table>\n",
              "</div>"
            ],
            "text/plain": [
              "           Hours     Scores\n",
              "count  25.000000  25.000000\n",
              "mean    5.012000  51.480000\n",
              "std     2.525094  25.286887\n",
              "min     1.100000  17.000000\n",
              "25%     2.700000  30.000000\n",
              "50%     4.800000  47.000000\n",
              "75%     7.400000  75.000000\n",
              "max     9.200000  95.000000"
            ]
          },
          "metadata": {
            "tags": []
          },
          "execution_count": 8
        }
      ]
    },
    {
      "cell_type": "code",
      "metadata": {
        "colab": {
          "base_uri": "https://localhost:8080/",
          "height": 312
        },
        "id": "9SsR6hXsq92G",
        "outputId": "ef13cdb5-ead8-47a1-faf0-edb5392f69d9"
      },
      "source": [
        "# Plot the data points on a 2-D graph and see how they are distributed\n",
        "dataset.plot(x='Hours', y='Scores', style = 'o')\n",
        "plt.title('Hours vs Scores(%)')\n",
        "plt.xlabel('Hours')"
      ],
      "execution_count": null,
      "outputs": [
        {
          "output_type": "execute_result",
          "data": {
            "text/plain": [
              "Text(0.5, 0, 'Hours')"
            ]
          },
          "metadata": {
            "tags": []
          },
          "execution_count": 10
        },
        {
          "output_type": "display_data",
          "data": {
            "image/png": "[encoded data removed]",
            "text/plain": [
              "<Figure size 432x288 with 1 Axes>"
            ]
          },
          "metadata": {
            "tags": [],
            "needs_background": "light"
          }
        }
      ]
    },
    {
      "cell_type": "code",
      "metadata": {
        "id": "rYonnOG_tSt1"
      },
      "source": [
        "# Extract the attributes and labels\n",
        "X = dataset.iloc[:,:-1].values\n",
        "y = dataset.iloc[:,1].values"
      ],
      "execution_count": null,
      "outputs": []
    },
    {
      "cell_type": "code",
      "metadata": {
        "id": "i4EdQB_FuWwN"
      },
      "source": [
        "# Import train_test_split() function library\n",
        "from sklearn.model_selection import train_test_split\n",
        "\n",
        "# Divide our data into two sets, namely the training and test sets\n",
        "X_train, X_test, y_train, y_test = train_test_split(X, y, test_size = 0.2, random_state = 0)"
      ],
      "execution_count": null,
      "outputs": []
    },
    {
      "cell_type": "markdown",
      "metadata": {
        "id": "zS4Pf08TvIIY"
      },
      "source": [
        "20% of the data\n",
        "will be used as the test set while the remaining 80% will be used as the training\n",
        "set"
      ]
    },
    {
      "cell_type": "code",
      "metadata": {
        "colab": {
          "base_uri": "https://localhost:8080/"
        },
        "id": "tjZAgBjCvDhd",
        "outputId": "0458ec17-c512-4b64-f80f-abf7f23fb0f3"
      },
      "source": [
        "# Training the algorithm using the LinearRegression class\n",
        "\n",
        "# import the class\n",
        "from sklearn.linear_model import LinearRegression\n",
        "\n",
        "# Instantiate in the linear_regressor instance\n",
        "linear_regressor = LinearRegression()\n",
        "\n",
        "# Call the fit() method and pass the training data to it:\n",
        "linear_regressor.fit(X_train, y_train)"
      ],
      "execution_count": null,
      "outputs": [
        {
          "output_type": "execute_result",
          "data": {
            "text/plain": [
              "LinearRegression(copy_X=True, fit_intercept=True, n_jobs=None, normalize=False)"
            ]
          },
          "metadata": {
            "tags": []
          },
          "execution_count": 15
        }
      ]
    },
    {
      "cell_type": "markdown",
      "metadata": {
        "id": "_rTHgMoHwo5s"
      },
      "source": [
        "Linear Regression works by finding the best values for\n",
        "the slope and the intercept."
      ]
    },
    {
      "cell_type": "code",
      "metadata": {
        "colab": {
          "base_uri": "https://localhost:8080/"
        },
        "id": "0kKHfFF_weCz",
        "outputId": "33283a8c-b410-4fd6-e9be-aa955d7a7b91"
      },
      "source": [
        "# Return intercept and coefficient(the value of the slope)\n",
        "print(linear_regressor.intercept_)\n",
        "print(linear_regressor.coef_)  "
      ],
      "execution_count": null,
      "outputs": [
        {
          "output_type": "stream",
          "text": [
            "2.018160041434662\n",
            "[9.91065648]\n"
          ],
          "name": "stdout"
        }
      ]
    },
    {
      "cell_type": "markdown",
      "metadata": {
        "id": "PUmv3uJ4zFia"
      },
      "source": [
        "If the student studies an extra hour, they will increase their marks by 9.91%"
      ]
    },
    {
      "cell_type": "code",
      "metadata": {
        "colab": {
          "base_uri": "https://localhost:8080/"
        },
        "id": "toDJBG0-yJSs",
        "outputId": "c4d7e1ad-77fb-411b-acb1-8ab79adbf91c"
      },
      "source": [
        "# Make predictions from the test data\n",
        "pred_y = linear_regressor.predict(X_test)\n",
        "\n",
        "# Compare pred_y and y_test and see the amount of similiarity or difference between two\n",
        "df = pd.DataFrame({'Actual': y_test, 'Predicted':pred_y})\n",
        "print(df)"
      ],
      "execution_count": null,
      "outputs": [
        {
          "output_type": "stream",
          "text": [
            "   Actual  Predicted\n",
            "0      20  16.884145\n",
            "1      27  33.732261\n",
            "2      69  75.357018\n",
            "3      30  26.794801\n",
            "4      62  60.491033\n"
          ],
          "name": "stdout"
        }
      ]
    },
    {
      "cell_type": "markdown",
      "metadata": {
        "id": "tBaUJ5lS54KQ"
      },
      "source": [
        "The model is not accurate, but the values are close to each other."
      ]
    },
    {
      "cell_type": "code",
      "metadata": {
        "id": "iEZ8ml1Q5ycc"
      },
      "source": [
        "# Determine how well the algorithm performed on the dataset\n",
        "# We will use the test data to determine the values for these metrics"
      ],
      "execution_count": null,
      "outputs": []
    },
    {
      "cell_type": "markdown",
      "metadata": {
        "id": "2hgFU6Ry6MAG"
      },
      "source": [
        "Three evaluation metrics are used for evaluating the accuracy\n",
        "\n",
        "1. MAE (Mean Absolute Error) - this is the mean of the absolute value of the errors.\n",
        "\n",
        "2. MSE (Mean Square Error) - this is the mean of squared errors\n",
        "\n",
        "3. RMSE (Root Mean Squared Error) - this is the square root of the mean of the squared errors.\n"
      ]
    },
    {
      "cell_type": "code",
      "metadata": {
        "colab": {
          "base_uri": "https://localhost:8080/"
        },
        "id": "QNJ4RHIZ6iEW",
        "outputId": "13f2e567-fbb9-4474-c5e4-70c8f8bc4d77"
      },
      "source": [
        "# Import the metrics class from Scikit-Learn\n",
        "from sklearn import metrics\n",
        "\n",
        "# Calculate MAE, MSE, RMSE\n",
        "print('MAE:', metrics.mean_absolute_error(y_test, pred_y))\n",
        "print('MSE:', metrics.mean_squared_error(y_test, pred_y))\n",
        "print('RMSE:', np.sqrt(metrics.mean_squared_error(y_test, pred_y)))"
      ],
      "execution_count": null,
      "outputs": [
        {
          "output_type": "stream",
          "text": [
            "MAE: 4.183859899002982\n",
            "MSE: 21.598769307217456\n",
            "RMSE: 4.647447612100373\n"
          ],
          "name": "stdout"
        }
      ]
    },
    {
      "cell_type": "markdown",
      "metadata": {
        "id": "U_1CTKgG7rr9"
      },
      "source": [
        "The value for root mean squared error is 4.65. <b> *This is less than 10% of mean\n",
        "value of percentages of all students, which are 51.48.* </b> Conclusion, our algorithm\n",
        "did a commendable job."
      ]
    },
    {
      "cell_type": "code",
      "metadata": {
        "id": "USV40PKS7ZWj"
      },
      "source": [
        "# END #"
      ],
      "execution_count": null,
      "outputs": []
    },
    {
      "cell_type": "markdown",
      "metadata": {
        "id": "CpwH4Imn9CaE"
      },
      "source": [
        "## Multiple Linear Regression"
      ]
    },
    {
      "cell_type": "markdown",
      "metadata": {
        "id": "f96ekqA3HJpp"
      },
      "source": [
        "The steps between the linear regression and multiple linear regression are almost the same. However, the difference comes\n",
        "when it comes to evaluation. When evaluating the multiple linear regression model, we need to know the factor with the highest impact on the output variable. We also need to determine the relationship between the various variables.\n",
        "\n"
      ]
    },
    {
      "cell_type": "code",
      "metadata": {
        "id": "mPuDDbFV9Edv"
      },
      "source": [
        "# Prediction the consumption of fuel in US states\n",
        "\n",
        "## We gonna consider factors like per capita income, gas taxes, paved highways\n",
        "## and the proportion of persons who have a driver's license."
      ],
      "execution_count": null,
      "outputs": []
    },
    {
      "cell_type": "code",
      "metadata": {
        "colab": {
          "base_uri": "https://localhost:8080/"
        },
        "id": "hfV6JjBt-nQ5",
        "outputId": "57027e50-50de-46f2-ca39-c10e0170de6b"
      },
      "source": [
        "# Import Libraries\n",
        "\n",
        "import numpy as np\n",
        "import pandas as pd\n",
        "import matplotlib.pyplot as plt\n",
        "\n",
        "from google.colab import drive\n",
        "drive.mount(\"/content/gdrive\")\n",
        "\n",
        "# storing the path to the dataset\n",
        "file = \"/content/gdrive/My Drive/Colab Notebooks/datasets/petrol_consumption.csv\"\n",
        "\n",
        "# Reading the file into Python through pandas\n",
        "dataset = pd.read_csv(file)"
      ],
      "execution_count": null,
      "outputs": [
        {
          "output_type": "stream",
          "text": [
            "Drive already mounted at /content/gdrive; to attempt to forcibly remount, call drive.mount(\"/content/gdrive\", force_remount=True).\n"
          ],
          "name": "stdout"
        }
      ]
    },
    {
      "cell_type": "code",
      "metadata": {
        "colab": {
          "base_uri": "https://localhost:8080/",
          "height": 224
        },
        "id": "pxBUqqwc_JCu",
        "outputId": "7e10343b-8fbb-45e8-e943-13b31fd9cb8c"
      },
      "source": [
        "# See the first five rows of the data\n",
        "dataset.head()"
      ],
      "execution_count": null,
      "outputs": [
        {
          "output_type": "execute_result",
          "data": {
            "text/html": [
              "<div>\n",
              "<style scoped>\n",
              "    .dataframe tbody tr th:only-of-type {\n",
              "        vertical-align: middle;\n",
              "    }\n",
              "\n",
              "    .dataframe tbody tr th {\n",
              "        vertical-align: top;\n",
              "    }\n",
              "\n",
              "    .dataframe thead th {\n",
              "        text-align: right;\n",
              "    }\n",
              "</style>\n",
              "<table border=\"1\" class=\"dataframe\">\n",
              "  <thead>\n",
              "    <tr style=\"text-align: right;\">\n",
              "      <th></th>\n",
              "      <th>Petrol_tax</th>\n",
              "      <th>Average_income</th>\n",
              "      <th>Paved_Highways</th>\n",
              "      <th>Population_Driver_licence(%)</th>\n",
              "      <th>Petrol_Consumption</th>\n",
              "    </tr>\n",
              "  </thead>\n",
              "  <tbody>\n",
              "    <tr>\n",
              "      <th>0</th>\n",
              "      <td>9.0</td>\n",
              "      <td>3571</td>\n",
              "      <td>1976</td>\n",
              "      <td>0.525</td>\n",
              "      <td>541</td>\n",
              "    </tr>\n",
              "    <tr>\n",
              "      <th>1</th>\n",
              "      <td>9.0</td>\n",
              "      <td>4092</td>\n",
              "      <td>1250</td>\n",
              "      <td>0.572</td>\n",
              "      <td>524</td>\n",
              "    </tr>\n",
              "    <tr>\n",
              "      <th>2</th>\n",
              "      <td>9.0</td>\n",
              "      <td>3865</td>\n",
              "      <td>1586</td>\n",
              "      <td>0.580</td>\n",
              "      <td>561</td>\n",
              "    </tr>\n",
              "    <tr>\n",
              "      <th>3</th>\n",
              "      <td>7.5</td>\n",
              "      <td>4870</td>\n",
              "      <td>2351</td>\n",
              "      <td>0.529</td>\n",
              "      <td>414</td>\n",
              "    </tr>\n",
              "    <tr>\n",
              "      <th>4</th>\n",
              "      <td>8.0</td>\n",
              "      <td>4399</td>\n",
              "      <td>431</td>\n",
              "      <td>0.544</td>\n",
              "      <td>410</td>\n",
              "    </tr>\n",
              "  </tbody>\n",
              "</table>\n",
              "</div>"
            ],
            "text/plain": [
              "   Petrol_tax  Average_income  ...  Population_Driver_licence(%)  Petrol_Consumption\n",
              "0         9.0            3571  ...                         0.525                 541\n",
              "1         9.0            4092  ...                         0.572                 524\n",
              "2         9.0            3865  ...                         0.580                 561\n",
              "3         7.5            4870  ...                         0.529                 414\n",
              "4         8.0            4399  ...                         0.544                 410\n",
              "\n",
              "[5 rows x 5 columns]"
            ]
          },
          "metadata": {
            "tags": []
          },
          "execution_count": 29
        }
      ]
    },
    {
      "cell_type": "code",
      "metadata": {
        "colab": {
          "base_uri": "https://localhost:8080/"
        },
        "id": "AslN4QZU_SxY",
        "outputId": "ca9438a8-4f99-4e77-b0dd-1c84451260d4"
      },
      "source": [
        "# Explore the dataset - row and column\n",
        "print(dataset.shape)"
      ],
      "execution_count": null,
      "outputs": [
        {
          "output_type": "stream",
          "text": [
            "(48, 5)\n"
          ],
          "name": "stdout"
        }
      ]
    },
    {
      "cell_type": "code",
      "metadata": {
        "colab": {
          "base_uri": "https://localhost:8080/",
          "height": 317
        },
        "id": "tcvXPUdc_Zhd",
        "outputId": "65f8a49f-b7ca-478d-d8c0-441bc76b77b2"
      },
      "source": [
        "# View the statistical details of the dataset\n",
        "dataset.describe()"
      ],
      "execution_count": null,
      "outputs": [
        {
          "output_type": "execute_result",
          "data": {
            "text/html": [
              "<div>\n",
              "<style scoped>\n",
              "    .dataframe tbody tr th:only-of-type {\n",
              "        vertical-align: middle;\n",
              "    }\n",
              "\n",
              "    .dataframe tbody tr th {\n",
              "        vertical-align: top;\n",
              "    }\n",
              "\n",
              "    .dataframe thead th {\n",
              "        text-align: right;\n",
              "    }\n",
              "</style>\n",
              "<table border=\"1\" class=\"dataframe\">\n",
              "  <thead>\n",
              "    <tr style=\"text-align: right;\">\n",
              "      <th></th>\n",
              "      <th>Petrol_tax</th>\n",
              "      <th>Average_income</th>\n",
              "      <th>Paved_Highways</th>\n",
              "      <th>Population_Driver_licence(%)</th>\n",
              "      <th>Petrol_Consumption</th>\n",
              "    </tr>\n",
              "  </thead>\n",
              "  <tbody>\n",
              "    <tr>\n",
              "      <th>count</th>\n",
              "      <td>48.000000</td>\n",
              "      <td>48.000000</td>\n",
              "      <td>48.000000</td>\n",
              "      <td>48.000000</td>\n",
              "      <td>48.000000</td>\n",
              "    </tr>\n",
              "    <tr>\n",
              "      <th>mean</th>\n",
              "      <td>7.668333</td>\n",
              "      <td>4241.833333</td>\n",
              "      <td>5565.416667</td>\n",
              "      <td>0.570333</td>\n",
              "      <td>576.770833</td>\n",
              "    </tr>\n",
              "    <tr>\n",
              "      <th>std</th>\n",
              "      <td>0.950770</td>\n",
              "      <td>573.623768</td>\n",
              "      <td>3491.507166</td>\n",
              "      <td>0.055470</td>\n",
              "      <td>111.885816</td>\n",
              "    </tr>\n",
              "    <tr>\n",
              "      <th>min</th>\n",
              "      <td>5.000000</td>\n",
              "      <td>3063.000000</td>\n",
              "      <td>431.000000</td>\n",
              "      <td>0.451000</td>\n",
              "      <td>344.000000</td>\n",
              "    </tr>\n",
              "    <tr>\n",
              "      <th>25%</th>\n",
              "      <td>7.000000</td>\n",
              "      <td>3739.000000</td>\n",
              "      <td>3110.250000</td>\n",
              "      <td>0.529750</td>\n",
              "      <td>509.500000</td>\n",
              "    </tr>\n",
              "    <tr>\n",
              "      <th>50%</th>\n",
              "      <td>7.500000</td>\n",
              "      <td>4298.000000</td>\n",
              "      <td>4735.500000</td>\n",
              "      <td>0.564500</td>\n",
              "      <td>568.500000</td>\n",
              "    </tr>\n",
              "    <tr>\n",
              "      <th>75%</th>\n",
              "      <td>8.125000</td>\n",
              "      <td>4578.750000</td>\n",
              "      <td>7156.000000</td>\n",
              "      <td>0.595250</td>\n",
              "      <td>632.750000</td>\n",
              "    </tr>\n",
              "    <tr>\n",
              "      <th>max</th>\n",
              "      <td>10.000000</td>\n",
              "      <td>5342.000000</td>\n",
              "      <td>17782.000000</td>\n",
              "      <td>0.724000</td>\n",
              "      <td>968.000000</td>\n",
              "    </tr>\n",
              "  </tbody>\n",
              "</table>\n",
              "</div>"
            ],
            "text/plain": [
              "       Petrol_tax  ...  Petrol_Consumption\n",
              "count   48.000000  ...           48.000000\n",
              "mean     7.668333  ...          576.770833\n",
              "std      0.950770  ...          111.885816\n",
              "min      5.000000  ...          344.000000\n",
              "25%      7.000000  ...          509.500000\n",
              "50%      7.500000  ...          568.500000\n",
              "75%      8.125000  ...          632.750000\n",
              "max     10.000000  ...          968.000000\n",
              "\n",
              "[8 rows x 5 columns]"
            ]
          },
          "metadata": {
            "tags": []
          },
          "execution_count": 30
        }
      ]
    },
    {
      "cell_type": "code",
      "metadata": {
        "colab": {
          "base_uri": "https://localhost:8080/"
        },
        "id": "q8nJny9f_dL3",
        "outputId": "888b4c91-47c4-4848-a294-91fb72218be8"
      },
      "source": [
        "dataset.columns"
      ],
      "execution_count": null,
      "outputs": [
        {
          "output_type": "execute_result",
          "data": {
            "text/plain": [
              "Index(['Petrol_tax', 'Average_income', 'Paved_Highways',\n",
              "       'Population_Driver_licence(%)', 'Petrol_Consumption'],\n",
              "      dtype='object')"
            ]
          },
          "metadata": {
            "tags": []
          },
          "execution_count": 28
        }
      ]
    },
    {
      "cell_type": "code",
      "metadata": {
        "id": "XEWK-61P_sTT"
      },
      "source": [
        "# Extract the attributes and labels\n",
        "\n",
        "# X = dataset.iloc[:,:4].values\n",
        "# y = dataset.iloc[:,4].values\n",
        "\n",
        "X = dataset[['Petrol_tax', 'Average_income', 'Paved_Highways', 'Population_Driver_licence(%)']]\n",
        "y = dataset['Petrol_Consumption']"
      ],
      "execution_count": null,
      "outputs": []
    },
    {
      "cell_type": "code",
      "metadata": {
        "id": "rcMsCAxeAU2_"
      },
      "source": [
        "# Import train_test_split() function library\n",
        "from sklearn.model_selection import train_test_split\n",
        "\n",
        "# Divide our data into two sets, namely the training and test sets\n",
        "X_train, X_test, y_train, y_test = train_test_split(X, y, test_size = 0.2, random_state = 0)"
      ],
      "execution_count": null,
      "outputs": []
    },
    {
      "cell_type": "code",
      "metadata": {
        "colab": {
          "base_uri": "https://localhost:8080/"
        },
        "id": "ZUsmZEapBpEr",
        "outputId": "609c3f05-35bb-4346-cf26-576817f04f25"
      },
      "source": [
        "# Training the algorithm using the LinearRegression class\n",
        "\n",
        "# import the class\n",
        "from sklearn.linear_model import LinearRegression\n",
        "\n",
        "# Instantiate in the linear_regressor instance\n",
        "linear_regressor = LinearRegression()\n",
        "\n",
        "# Call the fit() method and pass the training data to it:\n",
        "linear_regressor.fit(X_train, y_train)"
      ],
      "execution_count": null,
      "outputs": [
        {
          "output_type": "execute_result",
          "data": {
            "text/plain": [
              "LinearRegression(copy_X=True, fit_intercept=True, n_jobs=None, normalize=False)"
            ]
          },
          "metadata": {
            "tags": []
          },
          "execution_count": 51
        }
      ]
    },
    {
      "cell_type": "code",
      "metadata": {
        "colab": {
          "base_uri": "https://localhost:8080/"
        },
        "id": "lP2cDhzMDakN",
        "outputId": "3b3d2887-4805-4314-c6ae-180247fabe57"
      },
      "source": [
        "linear_regressor.coef_"
      ],
      "execution_count": null,
      "outputs": [
        {
          "output_type": "execute_result",
          "data": {
            "text/plain": [
              "array([-4.00166602e+01, -6.54126674e-02, -4.74073380e-03,  1.34186212e+03])"
            ]
          },
          "metadata": {
            "tags": []
          },
          "execution_count": 52
        }
      ]
    },
    {
      "cell_type": "code",
      "metadata": {
        "colab": {
          "base_uri": "https://localhost:8080/"
        },
        "id": "SjkTelluCEkY",
        "outputId": "0a2707da-3121-466e-d87f-3a5e5f42a519"
      },
      "source": [
        "# Print coeff to return chosen coefficient\n",
        "coeff = pd.DataFrame(linear_regressor.coef_, X.columns, columns = ['Coefficient'])\n",
        "print(coeff)  "
      ],
      "execution_count": null,
      "outputs": [
        {
          "output_type": "stream",
          "text": [
            "                              Coefficient\n",
            "Petrol_tax                     -40.016660\n",
            "Average_income                  -0.065413\n",
            "Paved_Highways                  -0.004741\n",
            "Population_Driver_licence(%)  1341.862121\n"
          ],
          "name": "stdout"
        }
      ]
    },
    {
      "cell_type": "markdown",
      "metadata": {
        "id": "MMsl6mz8ErHS"
      },
      "source": [
        "\n",
        " The results show that \n",
        "\n",
        "*  Any unit increase in fuel Tax will lead to a decrease of 40.02 million gallons in the gas Consumption.\n",
        "*  A unit increase in the proportion of\n",
        "the population with Driver’s license will lead to an increase of 1.342 billion gallons in gas Consumption.\n",
        "* Average Income and Highways have a very small impact on gas Consumption.\n"
      ]
    },
    {
      "cell_type": "code",
      "metadata": {
        "colab": {
          "base_uri": "https://localhost:8080/"
        },
        "id": "rfB2UBujCbFD",
        "outputId": "c4781b76-60b5-4fe2-f7ed-39619cf1c95b"
      },
      "source": [
        "# Return intercept\n",
        "print(linear_regressor.intercept_)"
      ],
      "execution_count": null,
      "outputs": [
        {
          "output_type": "stream",
          "text": [
            "425.5993322032433\n"
          ],
          "name": "stdout"
        }
      ]
    },
    {
      "cell_type": "code",
      "metadata": {
        "colab": {
          "base_uri": "https://localhost:8080/"
        },
        "id": "dEtBL2TMEV5v",
        "outputId": "926e75d6-3982-4c00-a0a9-f5439891d392"
      },
      "source": [
        "# Make predictions from the test data\n",
        "pred_y = linear_regressor.predict(X_test)\n",
        "\n",
        "# Compare pred_y and y_test and see the amount of similiarity or difference between two\n",
        "df = pd.DataFrame({'Actual': y_test, 'Predicted':pred_y})\n",
        "print(df)"
      ],
      "execution_count": null,
      "outputs": [
        {
          "output_type": "stream",
          "text": [
            "    Actual   Predicted\n",
            "29     534  469.391989\n",
            "4      410  545.645464\n",
            "26     577  589.668394\n",
            "30     571  569.730413\n",
            "32     577  649.774809\n",
            "37     704  646.631164\n",
            "34     487  511.608148\n",
            "40     587  672.475177\n",
            "7      467  502.074782\n",
            "10     580  501.270734\n"
          ],
          "name": "stdout"
        }
      ]
    },
    {
      "cell_type": "code",
      "metadata": {
        "colab": {
          "base_uri": "https://localhost:8080/"
        },
        "id": "D3MS-BMQFdDA",
        "outputId": "f38fa02d-a39d-406f-d143-5adfe1a84a8a"
      },
      "source": [
        "# Import the metrics class from Scikit-Learn\n",
        "from sklearn import metrics\n",
        "\n",
        "# Calculate MAE, MSE, RMSE\n",
        "print('MAE:', metrics.mean_absolute_error(y_test, pred_y))\n",
        "print('MSE:', metrics.mean_squared_error(y_test, pred_y))\n",
        "print('RMSE:', np.sqrt(metrics.mean_squared_error(y_test, pred_y)))"
      ],
      "execution_count": null,
      "outputs": [
        {
          "output_type": "stream",
          "text": [
            "MAE: 56.8222474789647\n",
            "MSE: 4666.344787588362\n",
            "RMSE: 68.31064915215168\n"
          ],
          "name": "stdout"
        }
      ]
    },
    {
      "cell_type": "markdown",
      "metadata": {
        "id": "HXdhWG5xF0aI"
      },
      "source": [
        "<p> The value for the root means the square error is 68.31 as shown above. This is slightly greater than 10% of mean value for gas consumption in all the states. It is true that our algorithm was not very much accurate, but we can still use it to make predictions. </p>\n",
        "<p> The big error could be brought by a number of factors. Maybe there was a need for more data. We have used data for only one year. Having data collected over multiple years could have helped us improve the accuracy of the model. </p>\n",
        "<p> Also, we had assumed that our data has a linear relationship. This could not be the case, hence the big error. </p>"
      ]
    },
    {
      "cell_type": "code",
      "metadata": {
        "id": "wUY4ebSjFxaO"
      },
      "source": [
        "## END OF CHAPTER 4 ##"
      ],
      "execution_count": null,
      "outputs": []
    },
    {
      "cell_type": "markdown",
      "metadata": {
        "id": "ZnAVz98RGxQq"
      },
      "source": [
        "# Chapter 5 - k-Nearest Neighbors Algorithm"
      ]
    },
    {
      "cell_type": "markdown",
      "metadata": {
        "id": "ZXUzcgR3HZtE"
      },
      "source": [
        "The KNN algorithm is highly used for building more complex classifiers. it is used in numerous applications data compression, economic forecasting, and genetics."
      ]
    },
    {
      "cell_type": "markdown",
      "metadata": {
        "id": "v-zG5x4GSlMn"
      },
      "source": [
        "It calculates the distance of the new data point to all the other training data points. The distance can be of various types including Manhattan, Euclidean etc. The K-nearest data points are chosen, in which K can be any integer. Finally, the data point is assigned to the class in which most of the K data points belong to."
      ]
    },
    {
      "cell_type": "markdown",
      "metadata": {
        "id": "Xd16si4PS1GR"
      },
      "source": [
        "Dataset is named iris which is made up of four attributes namely sepal-width, sepal-length, petal-width and petal-length. Each type of the iris plant has certain attributes. Our goal is to predict the class to which a plant belongs to. The dataset has three classes Iris-setosa Iris-versicolor, and Iris-virginica."
      ]
    },
    {
      "cell_type": "code",
      "metadata": {
        "id": "odxSLlHpTl0W"
      },
      "source": [
        "# Import Libraries\n",
        "\n",
        "import numpy as np\n",
        "import pandas as pd\n",
        "import matplotlib.pyplot as plt\n",
        "\n",
        "# Create a variable for the dataset url\n",
        "iris_url = \"https://archive.ics.uci.edu/ml/machine-learning-databases/iris/iris.data\"\n",
        "\n",
        "# Assign column name to the dataset\n",
        "names = ['Sepal_length', 'Sepal_width', 'Petal_length', 'Petal_width', 'Class']\n",
        "\n",
        "# Read the file into Python through pandas\n",
        "dataset = pd.read_csv(iris_url, names = names)\n"
      ],
      "execution_count": null,
      "outputs": []
    },
    {
      "cell_type": "code",
      "metadata": {
        "id": "DBAZrUZiUx3R"
      },
      "source": [
        "# Divide the dataset into attributes and labels\n",
        "X = dataset.iloc[:,:-1].values\n",
        "y = dataset.iloc[:,4].values"
      ],
      "execution_count": null,
      "outputs": []
    },
    {
      "cell_type": "code",
      "metadata": {
        "id": "96Ux8DpPU4Yp"
      },
      "source": [
        "# Import train_test_split() function library\n",
        "from sklearn.model_selection import train_test_split\n",
        "\n",
        "# Divide our data into two sets, namely the training and test sets\n",
        "X_train, X_test, y_train, y_test = train_test_split(X, y, test_size = 0.2, random_state = 0)"
      ],
      "execution_count": null,
      "outputs": []
    },
    {
      "cell_type": "code",
      "metadata": {
        "id": "M239MUxIVcnU"
      },
      "source": [
        "# Scale the features - all the features will be evaluated uniformly\n",
        "\n",
        "# Import this class\n",
        "from sklearn.preprocessing import StandardScaler\n",
        "\n",
        "# Instantiate the class, the instance was given the name feature_scaler.\n",
        "feature_scaler = StandardScaler()\n",
        "\n",
        "# Scale fitting to X_train \n",
        "feature_scaler.fit(X_train)\n",
        "\n",
        "# Transform X_train and X_test\n",
        "X_train = feature_scaler.transform(X_train)\n",
        "X_test = feature_scaler.transform(X_test)"
      ],
      "execution_count": null,
      "outputs": []
    },
    {
      "cell_type": "code",
      "metadata": {
        "colab": {
          "base_uri": "https://localhost:8080/"
        },
        "id": "1H92YwFXXGdv",
        "outputId": "277920f8-6a4c-4e58-cf7c-cf595badf836"
      },
      "source": [
        "# Import the KNeighborsClassifier from the Scikit-Learn library\n",
        "from sklearn.neighbors import KNeighborsClassifier\n",
        "\n",
        "# Train the algorithm\n",
        "knn_classifier = KNeighborsClassifier(n_neighbors = 5)\n",
        "knn_classifier.fit(X_train, y_train)"
      ],
      "execution_count": null,
      "outputs": [
        {
          "output_type": "execute_result",
          "data": {
            "text/plain": [
              "KNeighborsClassifier(algorithm='auto', leaf_size=30, metric='minkowski',\n",
              "                     metric_params=None, n_jobs=None, n_neighbors=5, p=2,\n",
              "                     weights='uniform')"
            ]
          },
          "metadata": {
            "tags": []
          },
          "execution_count": 5
        }
      ]
    },
    {
      "cell_type": "markdown",
      "metadata": {
        "id": "BgoQmR1PX-nu"
      },
      "source": [
        "We have used 5 as the value of this parameter, and this basically denotes the value of K."
      ]
    },
    {
      "cell_type": "code",
      "metadata": {
        "id": "_R7OUYEyXnfQ"
      },
      "source": [
        "# Make predictions using the test data\n",
        "pred_y = knn_classifier.predict(X_test)"
      ],
      "execution_count": null,
      "outputs": []
    },
    {
      "cell_type": "code",
      "metadata": {
        "colab": {
          "base_uri": "https://localhost:8080/"
        },
        "id": "GG7GipQQYWlA",
        "outputId": "ad44b9b6-7594-4d97-fcc6-4989f905a23d"
      },
      "source": [
        "# Create confusion matrix and classification report incluing precision, recall, and f1 score\n",
        "\n",
        "# Import library\n",
        "from sklearn.metrics import confusion_matrix, classification_report\n",
        "\n",
        "print(confusion_matrix(y_test, pred_y))\n",
        "print(classification_report(y_test, pred_y))"
      ],
      "execution_count": null,
      "outputs": [
        {
          "output_type": "stream",
          "text": [
            "[[11  0  0]\n",
            " [ 0 13  0]\n",
            " [ 0  0  6]]\n",
            "                 precision    recall  f1-score   support\n",
            "\n",
            "    Iris-setosa       1.00      1.00      1.00        11\n",
            "Iris-versicolor       1.00      1.00      1.00        13\n",
            " Iris-virginica       1.00      1.00      1.00         6\n",
            "\n",
            "       accuracy                           1.00        30\n",
            "      macro avg       1.00      1.00      1.00        30\n",
            "   weighted avg       1.00      1.00      1.00        30\n",
            "\n"
          ],
          "name": "stdout"
        }
      ]
    },
    {
      "cell_type": "markdown",
      "metadata": {
        "id": "q-1of2udILYX"
      },
      "source": [
        "The KNN algorithm did a good job in classifying the 30 records that we have in the test dataset. The results show that the average accuracy of the algorithm on the dataset was about 90%."
      ]
    },
    {
      "cell_type": "markdown",
      "metadata": {
        "id": "JgiRBueIvm4n"
      },
      "source": [
        "**Comparing K Value with the Error Rate**"
      ]
    },
    {
      "cell_type": "markdown",
      "metadata": {
        "id": "UTYfOOkRwFA7"
      },
      "source": [
        "Find the best value of K is by plotting a graph of K value and the corresponding error for the dataset. We should begin by calculating the mean of error for the predicted value with K ranging between 1 and 40."
      ]
    },
    {
      "cell_type": "code",
      "metadata": {
        "id": "WNv5cvd-wSLy"
      },
      "source": [
        "error = []\n",
        "\n",
        "# K values range between 1 and 40\n",
        "for x in range(1, 40):\n",
        "  knn = KNeighborsClassifier(n_neighbors = x)\n",
        "  knn.fit(X_train, y_train)\n",
        "  pred_x = knn.predict(X_test)\n",
        "  error.append(np.mean(pred_x != y_test))"
      ],
      "execution_count": null,
      "outputs": []
    },
    {
      "cell_type": "code",
      "metadata": {
        "id": "-VyZbm9-q-NR",
        "colab": {
          "base_uri": "https://localhost:8080/",
          "height": 424
        },
        "outputId": "3476ed0b-e79a-44cd-a566-04e8632752d9"
      },
      "source": [
        "# Plot the values of error against the values of K\n",
        "plt.figure(figsize = (12, 6))\n",
        "plt.plot(range(1, 40), error, color = 'blue', linestyle = 'dashed', marker = 'o',\n",
        "         markerfacecolor = 'blue', markersize = 10)\n",
        "plt.title('Error Rate for K')\n",
        "plt.xlabel('K Values')\n",
        "plt.ylabel('Mean Error')\n",
        "plt.show()"
      ],
      "execution_count": null,
      "outputs": [
        {
          "output_type": "display_data",
          "data": {
            "image/png": "[encoded data removed]",
            "text/plain": [
              "<Figure size 864x432 with 1 Axes>"
            ]
          },
          "metadata": {
            "tags": [],
            "needs_background": "light"
          }
        }
      ]
    },
    {
      "cell_type": "markdown",
      "metadata": {
        "id": "Rnt0EJk1x1N0"
      },
      "source": [
        "The graph shows that we will get a Mean Error of 0 when we use values of K between 5 and 18. It will then be good for you to play around with the value of K and see its impact on the accuracy of the predictions."
      ]
    },
    {
      "cell_type": "code",
      "metadata": {
        "id": "5P0kcA8Uxq0x"
      },
      "source": [
        "## END OF CHAPTER 5 ##"
      ],
      "execution_count": null,
      "outputs": []
    },
    {
      "cell_type": "markdown",
      "metadata": {
        "id": "7DL4-ACDyNIc"
      },
      "source": [
        "# Chapter 9 - Random Forest Algorithm"
      ]
    },
    {
      "cell_type": "markdown",
      "metadata": {
        "id": "7dYLB39ly0as"
      },
      "source": [
        "It is based on ensemble learning. Ensemble learning refers to the kind of learning in which different types of algorithms or one algorithm is joined multiple times to get a more powerful prediction model. The random forest algorithm is a combination of many algorithms of a similar type, that is, multiple decision trees, resulting into a forest of trees, explaining the source of the name “random forest”.\n",
        "\n",
        "The random forest algorithm follows the following basic steps in its work:\n",
        "\n",
        "\n",
        "1.   Select N random records from a data set.\n",
        "2.   Build a decision tree from these N random records.\n",
        "3.   Select the number of trees that you need in the algorithm and repeat the above two steps.\n",
        "4.   Regression problem : calculate the final value by taking the average of all predicted values by all trees in the forest. \n",
        "5.   Classification problem : every tree in the forest should predict the category under which the new record belongs. The new record is finally assigned to the category that has won the majority vote.\n",
        "\n"
      ]
    },
    {
      "cell_type": "markdown",
      "metadata": {
        "id": "LqDZrHgr9J1r"
      },
      "source": [
        "**Random Forest and Regression problems**"
      ]
    },
    {
      "cell_type": "code",
      "metadata": {
        "colab": {
          "base_uri": "https://localhost:8080/"
        },
        "id": "TUkz1rujyQJo",
        "outputId": "125669f5-478e-48b0-9a45-8a3e7f305abd"
      },
      "source": [
        "# import the numpy and pandas libraries\n",
        "import pandas as pd\n",
        "import numpy as np\n",
        "\n",
        "# import fuel_consumption.csv into a data frame\n",
        "from google.colab import drive\n",
        "drive.mount(\"/content/gdrive\")\n",
        "\n",
        "# storing the path to the dataset\n",
        "file = \"/content/gdrive/My Drive/Colab Notebooks/datasets/petrol_consumption.csv\"\n",
        "dataset = pd.read_csv(file)\n",
        "\n",
        "# See what is contained in the dataset\n",
        "print(dataset.head())"
      ],
      "execution_count": null,
      "outputs": [
        {
          "output_type": "stream",
          "text": [
            "Drive already mounted at /content/gdrive; to attempt to forcibly remount, call drive.mount(\"/content/gdrive\", force_remount=True).\n",
            "   Petrol_tax  Average_income  ...  Population_Driver_licence(%)  Petrol_Consumption\n",
            "0         9.0            3571  ...                         0.525                 541\n",
            "1         9.0            4092  ...                         0.572                 524\n",
            "2         9.0            3865  ...                         0.580                 561\n",
            "3         7.5            4870  ...                         0.529                 414\n",
            "4         8.0            4399  ...                         0.544                 410\n",
            "\n",
            "[5 rows x 5 columns]\n"
          ],
          "name": "stdout"
        }
      ]
    },
    {
      "cell_type": "markdown",
      "metadata": {
        "id": "9SvnTxT23CA8"
      },
      "source": [
        "The above data shows that the values are not scaled well."
      ]
    },
    {
      "cell_type": "code",
      "metadata": {
        "id": "qNV6ei8z3Bex"
      },
      "source": [
        "# Subdividing the data into attributes and labels\n",
        "X = dataset.iloc[:, 0:4].values\n",
        "y = dataset.iloc[:, 4].values\n",
        "\n",
        "# Divide the data into training and test sets.\n",
        "from sklearn.model_selection import train_test_split\n",
        "X_train, X_test, y_train, y_test = train_test_split(X, y, test_size = 0.2, random_state = 0)"
      ],
      "execution_count": null,
      "outputs": []
    },
    {
      "cell_type": "code",
      "metadata": {
        "id": "SXcsAV9S2kjl"
      },
      "source": [
        "# Feature Scaling\n",
        "from sklearn.preprocessing import StandardScaler\n",
        "\n",
        "# Create an instance of this class and use it for scaling the dataset\n",
        "rf_scaler = StandardScaler()\n",
        "X_train = rf_scaler.fit_transform(X_train)\n",
        "X_test = rf_scaler.transform(X_test)\n"
      ],
      "execution_count": null,
      "outputs": []
    },
    {
      "cell_type": "code",
      "metadata": {
        "id": "WSU8FPDE4clR"
      },
      "source": [
        "# Train the random forests algorithms to solve the regression problem\n",
        "from sklearn.ensemble import RandomForestRegressor\n",
        "\n",
        "# Create an instance of this class and use it to train the algorithm \n",
        "rf_regressor = RandomForestRegressor(n_estimators = 20, random_state = 0)\n",
        "rf_regressor.fit(X_train, y_train)\n",
        "\n",
        "# Make a prediction on the test dataset\n",
        "pred_y = rf_regressor.predict(X_test)\n"
      ],
      "execution_count": null,
      "outputs": []
    },
    {
      "cell_type": "markdown",
      "metadata": {
        "id": "xQNRN7bp8DdO"
      },
      "source": [
        "Evaluating Algorithm Performance\n",
        "\n",
        "As a regression problem, so the metrics used to evaluate the performance of the algorithm include mean absolute error (MAE), mean squared\n",
        "error MSE), and root mean squared error (RMSE)."
      ]
    },
    {
      "cell_type": "code",
      "metadata": {
        "colab": {
          "base_uri": "https://localhost:8080/"
        },
        "id": "NgDKh7oy6FL9",
        "outputId": "96d79b2a-a8eb-4ca8-ddac-aa7e3f7fc4db"
      },
      "source": [
        "# import the metrics method from the Scikit-Learn library\n",
        "from sklearn import metrics\n",
        "\n",
        "print('MAE:', metrics.mean_absolute_error(y_test, pred_y))\n",
        "print('MSE:', metrics.mean_squared_error(y_test, pred_y))\n",
        "print('RMSE:', np.sqrt(metrics.mean_squared_error(y_test, pred_y)))"
      ],
      "execution_count": null,
      "outputs": [
        {
          "output_type": "stream",
          "text": [
            "MAE: 51.76500000000001\n",
            "MSE: 4216.166749999999\n",
            "RMSE: 64.93201637097064\n"
          ],
          "name": "stdout"
        }
      ]
    },
    {
      "cell_type": "markdown",
      "metadata": {
        "id": "0C_NHbOl82xS"
      },
      "source": [
        "We used 20 trees which have given us a root mean square value of 64.93. This value is greater than the 10 percent of the average fuel consumption. This is an indication that we did not use enough trees/estimators. The values of the errors will decrease with an increase in the number of trees or estimators\n"
      ]
    },
    {
      "cell_type": "markdown",
      "metadata": {
        "id": "fR8UXXrD9O6l"
      },
      "source": [
        "**Random Forest and Classification problems**"
      ]
    },
    {
      "cell_type": "markdown",
      "metadata": {
        "id": "jrqFsaOY9Shq"
      },
      "source": [
        "We will use the dataset for bank_note to predict whether a bank note is authentic or not. We will depend on four attributes of the note including variance of the image wavelet transformed image, entropy, skewness, and\n",
        "curtosis of the image."
      ]
    },
    {
      "cell_type": "code",
      "metadata": {
        "colab": {
          "base_uri": "https://localhost:8080/"
        },
        "id": "81Tret8V8BL5",
        "outputId": "6f17c51e-138d-4cd4-b103-31193b32a586"
      },
      "source": [
        "# import the numpy and pandas libraries\n",
        "import pandas as pd\n",
        "import numpy as np\n",
        "\n",
        "# import fuel_consumption.csv into a data frame\n",
        "from google.colab import drive\n",
        "drive.mount(\"/content/gdrive\")\n",
        "\n",
        "# storing the path to the dataset\n",
        "file = \"/content/gdrive/My Drive/Colab Notebooks/datasets/bank_note.csv\"\n",
        "dataset = pd.read_csv(file)\n",
        "\n",
        "# See what is contained in the dataset\n",
        "print(dataset.head())"
      ],
      "execution_count": null,
      "outputs": [
        {
          "output_type": "stream",
          "text": [
            "Drive already mounted at /content/gdrive; to attempt to forcibly remount, call drive.mount(\"/content/gdrive\", force_remount=True).\n",
            "   Variance  Skewness  Curtosis  Entropy  Class\n",
            "0   3.62160    8.6661   -2.8073 -0.44699      0\n",
            "1   4.54590    8.1674   -2.4586 -1.46210      0\n",
            "2   3.86600   -2.6383    1.9242  0.10645      0\n",
            "3   3.45660    9.5228   -4.0112 -3.59440      0\n",
            "4   0.32924   -4.4552    4.5718 -0.98880      0\n"
          ],
          "name": "stdout"
        }
      ]
    },
    {
      "cell_type": "code",
      "metadata": {
        "id": "m3rwiX4e-ZeH"
      },
      "source": [
        "# Subdividing the data into attributes and labels\n",
        "X = dataset.iloc[:, 0:4].values\n",
        "y = dataset.iloc[:, 4].values\n",
        "\n",
        "# Divide the data into training and test sets.\n",
        "from sklearn.model_selection import train_test_split\n",
        "X_train, X_test, y_train, y_test = train_test_split(X, y, test_size = 0.2, random_state = 0)"
      ],
      "execution_count": null,
      "outputs": []
    },
    {
      "cell_type": "code",
      "metadata": {
        "id": "3dMY3qNj-lk3"
      },
      "source": [
        "# Feature Scaling\n",
        "from sklearn.preprocessing import StandardScaler\n",
        "\n",
        "# Create an instance of this class and use it for scaling the dataset\n",
        "sc = StandardScaler()\n",
        "X_train = sc.fit_transform(X_train)\n",
        "X_test = sc.transform(X_test)"
      ],
      "execution_count": null,
      "outputs": []
    },
    {
      "cell_type": "code",
      "metadata": {
        "id": "ez_ZxDW1-0rH"
      },
      "source": [
        "# Train the random forests algorithms to solve the regression problem\n",
        "from sklearn.ensemble import RandomForestClassifier\n",
        "\n",
        "# Create an instance of this class and use it to train the algorithm \n",
        "classifier = RandomForestClassifier(n_estimators = 20, random_state = 0)\n",
        "classifier.fit(X_train, y_train)\n",
        "\n",
        "# Make a prediction on the test dataset\n",
        "pred_y = classifier.predict(X_test)"
      ],
      "execution_count": null,
      "outputs": []
    },
    {
      "cell_type": "markdown",
      "metadata": {
        "id": "QdZZ2bNb_T6p"
      },
      "source": [
        "Evaluating Algorithm Performance\n",
        "\n",
        "Use metrics like accuracy, precision recall, confusion matrix, and F1 values"
      ]
    },
    {
      "cell_type": "code",
      "metadata": {
        "colab": {
          "base_uri": "https://localhost:8080/"
        },
        "id": "e8ScnGDP_NGz",
        "outputId": "afa1a390-ec50-44ce-bbf3-1874f677eda4"
      },
      "source": [
        "# import the metrics method from the Scikit-Learn library\n",
        "from sklearn.metrics import confusion_matrix, classification_report, accuracy_score\n",
        "\n",
        "print(confusion_matrix(y_test, pred_y))\n",
        "print(classification_report(y_test, pred_y))\n",
        "print(accuracy_score(y_test, pred_y))"
      ],
      "execution_count": null,
      "outputs": [
        {
          "output_type": "stream",
          "text": [
            "[[155   2]\n",
            " [  1 117]]\n",
            "              precision    recall  f1-score   support\n",
            "\n",
            "           0       0.99      0.99      0.99       157\n",
            "           1       0.98      0.99      0.99       118\n",
            "\n",
            "    accuracy                           0.99       275\n",
            "   macro avg       0.99      0.99      0.99       275\n",
            "weighted avg       0.99      0.99      0.99       275\n",
            "\n",
            "0.9890909090909091\n"
          ],
          "name": "stdout"
        }
      ]
    },
    {
      "cell_type": "markdown",
      "metadata": {
        "id": "T9vahfu6AHfe"
      },
      "source": [
        "The above results show that the random forest classifier achieved an accuracy score of 98.91% when using 20 trees. 98.91% is a good score, so there is no need for us to increase the number of trees/estimators. If you need to improve the accuracy of this classifier, try to vary the other parameters other than the number of trees/estimators."
      ]
    },
    {
      "cell_type": "code",
      "metadata": {
        "id": "rhTQC8PR_9Ju"
      },
      "source": [
        "## END OF CHAPTER 9 ##"
      ],
      "execution_count": null,
      "outputs": []
    },
    {
      "cell_type": "markdown",
      "metadata": {
        "id": "3OdgcfM4ATNb"
      },
      "source": [
        "# Chapter 6 - K-Means Clustering"
      ]
    },
    {
      "cell_type": "markdown",
      "metadata": {
        "id": "onjP79lJjClZ"
      },
      "source": [
        "The goal of the algorithm is to identify clusters or groups within the data. The objects contained one cluster is more related to one another than the objects in the other clusters. The similarity is a metric reflecting the strength of the relationship between two data objects. "
      ]
    },
    {
      "cell_type": "markdown",
      "metadata": {
        "id": "0W1TG9Qjl9If"
      },
      "source": [
        "You are required to specify the value of K, which are the number of clusters that you expect the algorithm to make from the data. The algorithm first selects a centroid value for every cluster. After that, it performs three steps in an iterative manner:\n",
        "1. Calculate the Euclidian distance between every data instance and the centroids for all clusters.\n",
        "2. Assign the instances of data to the cluster of centroid with the nearest distance.\n",
        "3. Calculate the new centroid values depending on the mean values of the coordinates of the data instances from the corresponding cluster."
      ]
    },
    {
      "cell_type": "code",
      "metadata": {
        "id": "Bp7hb-40ASnW"
      },
      "source": [
        ""
      ],
      "execution_count": null,
      "outputs": []
    }
  ]
}